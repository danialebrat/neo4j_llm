{
 "cells": [
  {
   "cell_type": "code",
   "execution_count": 1,
   "id": "initial_id",
   "metadata": {
    "collapsed": true,
    "ExecuteTime": {
     "end_time": "2024-09-12T14:32:00.166204600Z",
     "start_time": "2024-09-12T14:32:00.161846400Z"
    }
   },
   "outputs": [
    {
     "name": "stdout",
     "output_type": "stream",
     "text": [
      "None\n"
     ]
    }
   ],
   "source": [
    "import os\n",
    "OPENAI_API_KEY = os.getenv(\"OPENAI_API_KEY\")\n",
    "print(OPENAI_API_KEY)"
   ]
  },
  {
   "cell_type": "code",
   "execution_count": 2,
   "outputs": [
    {
     "name": "stdout",
     "output_type": "stream",
     "text": [
      "[{'m.title': 'Toy Story', 'm.plot': \"A cowboy doll is profoundly threatened and jealous when a new spaceman figure supplants him as top toy in a boy's room.\", 'm.poster': 'https://image.tmdb.org/t/p/w440_and_h660_face/uXDfjJbdP4ijW5hWSBrPrlKpxab.jpg'}]\n"
     ]
    }
   ],
   "source": [
    "from langchain_community.graphs import Neo4jGraph\n",
    "\n",
    "graph = Neo4jGraph(\n",
    "    url=\"bolt://3.238.27.77:7687\",\n",
    "    username=\"neo4j\",\n",
    "    password=\"army-acids-fashion\"\n",
    ")\n",
    "\n",
    "result = graph.query(\"\"\"\n",
    "MATCH (m:Movie{title: 'Toy Story'}) \n",
    "RETURN m.title, m.plot, m.poster\n",
    "\"\"\")\n",
    "\n",
    "print(result)"
   ],
   "metadata": {
    "collapsed": false,
    "ExecuteTime": {
     "end_time": "2024-09-12T14:32:12.880894600Z",
     "start_time": "2024-09-12T14:32:11.367910700Z"
    }
   },
   "id": "9a4cb32b7a595a94"
  },
  {
   "cell_type": "code",
   "execution_count": 3,
   "outputs": [
    {
     "name": "stdout",
     "output_type": "stream",
     "text": [
      "\n",
      "\n",
      "\u001B[1m> Entering new RetrievalQA chain...\u001B[0m\n",
      "\n",
      "\u001B[1m> Finished chain.\u001B[0m\n",
      "{'query': 'A movie where a mission to the moon goes wrong', 'result': 'The movie you are referring to is likely \"2001: A Space Odyssey\" where a mission to the Moon goes awry after the discovery of a mysterious artificial object buried beneath the Lunar surface.', 'source_documents': [Document(metadata={'budget': 12000000, 'movieId': '924', 'tmdbId': '62', 'imdbVotes': 407650, 'runtime': 149, 'countries': ['USA', ' UK'], 'imdbId': '0062622', 'url': 'https://themoviedb.org/movie/62', 'released': '1968-05-15', 'languages': ['English', ' Russian'], 'imdbRating': 8.3, 'title': '2001: A Space Odyssey', 'poster': 'https://image.tmdb.org/t/p/w440_and_h660_face/zmmYdPa8Lxx999Af9vnVP4XQ1V6.jpg', 'year': 1968, 'revenue': 68700000}, page_content='Humanity finds a mysterious, obviously artificial object buried beneath the Lunar surface and, with the intelligent computer H.A.L. 9000, sets off on a quest.'), Document(metadata={'budget': 52000000, 'movieId': '150', 'tmdbId': '568', 'imdbVotes': 203181, 'runtime': 140, 'countries': ['USA'], 'imdbId': '0112384', 'url': 'https://themoviedb.org/movie/568', 'released': '1995-06-30', 'languages': ['English'], 'imdbRating': 7.6, 'title': 'Apollo 13', 'poster': 'https://image.tmdb.org/t/p/w440_and_h660_face/oYUZHYMwNKnE1ef4WE5Hw2a9OAY.jpg', 'year': 1995, 'revenue': 355237933}, page_content='NASA must devise a strategy to return Apollo 13 to Earth safely after the spacecraft undergoes massive internal damage putting the lives of the three astronauts on board in jeopardy.'), Document(metadata={'budget': 18500000, 'movieId': '1200', 'tmdbId': '679', 'imdbVotes': 469658, 'runtime': 137, 'countries': ['UK', ' USA'], 'imdbId': '0090605', 'url': 'https://themoviedb.org/movie/679', 'released': '1986-07-18', 'languages': ['English'], 'imdbRating': 8.4, 'title': 'Aliens', 'poster': 'https://image.tmdb.org/t/p/w440_and_h660_face/xwdPTZyyBa4U3V2N0EmozTCeEAY.jpg', 'year': 1986, 'revenue': 183316455}, page_content='The planet from Alien (1979) has been colonized, but contact is lost. This time, the rescue team has impressive firepower, but will it be enough?'), Document(metadata={'movieId': '435', 'tmdbId': '9612', 'imdbVotes': 41167, 'runtime': 88, 'countries': ['USA'], 'imdbId': '0106598', 'url': 'https://themoviedb.org/movie/9612', 'released': '1993-07-23', 'languages': ['English'], 'imdbRating': 5.2, 'title': 'Coneheads', 'poster': 'https://image.tmdb.org/t/p/w440_and_h660_face/kmD0llGIO4LXSkIqCIlswWQ2Hy3.jpg', 'year': 1993}, page_content='Aliens with conical crania crash land on Earth.')]}\n"
     ]
    }
   ],
   "source": [
    "from langchain.chains import RetrievalQA\n",
    "from langchain_openai import ChatOpenAI, OpenAIEmbeddings\n",
    "from langchain_community.graphs import Neo4jGraph\n",
    "from langchain_community.vectorstores import Neo4jVector\n",
    "\n",
    "OPENAI_API_KEY = OPENAI_API_KEY\n",
    "\n",
    "llm = ChatOpenAI(openai_api_key=OPENAI_API_KEY)\n",
    "\n",
    "embedding_provider = OpenAIEmbeddings(openai_api_key=OPENAI_API_KEY)\n",
    "\n",
    "graph = Neo4jGraph(\n",
    "    url=\"bolt://3.238.27.77:7687\",\n",
    "    username=\"neo4j\",\n",
    "    password=\"army-acids-fashion\"\n",
    ")\n",
    "\n",
    "movie_plot_vector = Neo4jVector.from_existing_index(\n",
    "    embedding_provider,\n",
    "    graph=graph,\n",
    "    index_name=\"moviePlots\",\n",
    "    embedding_node_property=\"plotEmbedding\",\n",
    "    text_node_property=\"plot\",\n",
    ")\n",
    "\n",
    "plot_retriever = RetrievalQA.from_llm(\n",
    "    llm=llm,\n",
    "    retriever=movie_plot_vector.as_retriever(),\n",
    "    verbose=True,\n",
    "    return_source_documents=True\n",
    ")\n",
    "\n",
    "response = plot_retriever.invoke(\n",
    "    {\"query\": \"A movie where a mission to the moon goes wrong\"}\n",
    ")\n",
    "\n",
    "print(response)"
   ],
   "metadata": {
    "collapsed": false,
    "ExecuteTime": {
     "end_time": "2024-09-12T14:35:51.231917300Z",
     "start_time": "2024-09-12T14:35:46.525797500Z"
    }
   },
   "id": "b32dc149aced323f"
  },
  {
   "cell_type": "code",
   "execution_count": null,
   "outputs": [],
   "source": [],
   "metadata": {
    "collapsed": false
   },
   "id": "819137e204068bfb"
  }
 ],
 "metadata": {
  "kernelspec": {
   "display_name": "Python 3",
   "language": "python",
   "name": "python3"
  },
  "language_info": {
   "codemirror_mode": {
    "name": "ipython",
    "version": 2
   },
   "file_extension": ".py",
   "mimetype": "text/x-python",
   "name": "python",
   "nbconvert_exporter": "python",
   "pygments_lexer": "ipython2",
   "version": "2.7.6"
  }
 },
 "nbformat": 4,
 "nbformat_minor": 5
}
